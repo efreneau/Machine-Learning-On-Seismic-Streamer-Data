{
 "cells": [
  {
   "cell_type": "code",
   "execution_count": 3,
   "metadata": {},
   "outputs": [],
   "source": [
    "import csv\n",
    "import numpy as np\n",
    "import matplotlib.pyplot as p\n",
    "import math\n",
    "import os\n",
    "from os import walk\n",
    "import scipy.io as sio\n",
    "\n",
    "#folder = r'C:\\Users\\zomege\\Documents\\Machine Learning\\Matlab\\Training_Data_(Line_06)\\\\'\n",
    "saveLoc = r'C:\\Users\\zomege\\Documents\\Machine Learning\\data.mat'"
   ]
  },
  {
   "cell_type": "code",
   "execution_count": 5,
   "metadata": {},
   "outputs": [],
   "source": [
    "#Header of csv1\n",
    "#Date[0],Time[1],Depth of Airgun(m)[2],Depth of Reciever(m)[3],X Airgun[4],Y Airgun[5],Z Airgun[6],X_R1[7],Y_R1[8],Z_R1[9],SEL[10],RMS[11],T90[12]\n",
    "#Python array\n",
    "#Range(m)[0],T90[1]\n",
    "\n",
    "#Conditional creation of a matlab data structure\n",
    "if(not(os.path.isfile(saveLoc))):\n",
    "    files = os.listdir(folder)\n",
    "    length = len(files)\n",
    "    data = np.zeros([length,636,5])\n",
    "    f = 0#file index\n",
    "    for filename in files:\n",
    "        e = 0#hydrophone index\n",
    "        dirname = folder+filename\n",
    "        #print(dirname)\n",
    "        if filename.endswith(\".csv\"): \n",
    "            with open(dirname) as csvFile:\n",
    "                csvReader = csv.reader(csvFile)\n",
    "                next(csvReader,None)#Skip header\n",
    "                for row in csvReader:\n",
    "                    range1 = math.sqrt((float(row[7])-float(row[4]))**2+(float(row[8])-float(row[5]))**2)#range = dist([X_R1,Y_R1],[X_Airgun,Y_airgun])\n",
    "                    data[f,e] = [range1,row[12]]#range, T90\n",
    "                    e = e + 1\n",
    "        f = f + 1 \n",
    "    sio.savemat(saveLoc, mdict={'data': data})\n",
    "else:\n",
    "    save = sio.loadmat(saveLoc)\n",
    "    data = save['data']"
   ]
  },
  {
   "cell_type": "code",
   "execution_count": 1,
   "metadata": {},
   "outputs": [
    {
     "ename": "NameError",
     "evalue": "name 'data' is not defined",
     "output_type": "error",
     "traceback": [
      "\u001b[1;31m---------------------------------------------------------------------------\u001b[0m",
      "\u001b[1;31mNameError\u001b[0m                                 Traceback (most recent call last)",
      "\u001b[1;32m<ipython-input-1-9feeea9956b1>\u001b[0m in \u001b[0;36m<module>\u001b[1;34m()\u001b[0m\n\u001b[0;32m      2\u001b[0m \u001b[1;31m# range data[:][100][0]\u001b[0m\u001b[1;33m\u001b[0m\u001b[1;33m\u001b[0m\u001b[0m\n\u001b[0;32m      3\u001b[0m \u001b[1;31m# T90 data[:][100][1]\u001b[0m\u001b[1;33m\u001b[0m\u001b[1;33m\u001b[0m\u001b[0m\n\u001b[1;32m----> 4\u001b[1;33m \u001b[0mxs\u001b[0m \u001b[1;33m=\u001b[0m \u001b[0mdata\u001b[0m\u001b[1;33m[\u001b[0m\u001b[1;33m:\u001b[0m\u001b[1;33m,\u001b[0m\u001b[1;36m100\u001b[0m\u001b[1;33m,\u001b[0m\u001b[1;36m0\u001b[0m\u001b[1;33m]\u001b[0m\u001b[1;33m\u001b[0m\u001b[0m\n\u001b[0m\u001b[0;32m      5\u001b[0m \u001b[0mys\u001b[0m \u001b[1;33m=\u001b[0m \u001b[0mdata\u001b[0m\u001b[1;33m[\u001b[0m\u001b[1;33m:\u001b[0m\u001b[1;33m,\u001b[0m\u001b[1;36m100\u001b[0m\u001b[1;33m,\u001b[0m\u001b[1;36m1\u001b[0m\u001b[1;33m]\u001b[0m\u001b[1;33m\u001b[0m\u001b[0m\n\u001b[0;32m      6\u001b[0m \u001b[1;33m\u001b[0m\u001b[0m\n",
      "\u001b[1;31mNameError\u001b[0m: name 'data' is not defined"
     ]
    }
   ],
   "source": [
    "#T90 Plot\n",
    "# range data[:][100][0]\n",
    "# T90 data[:][100][1]\n",
    "xs = data[:,100,0]\n",
    "ys = data[:,100,1]\n",
    "\n",
    "p.scatter(xs,ys,s=5)\n",
    "p.show()"
   ]
  }
 ],
 "metadata": {
  "kernelspec": {
   "display_name": "Python 3",
   "language": "python",
   "name": "python3"
  },
  "language_info": {
   "codemirror_mode": {
    "name": "ipython",
    "version": 3
   },
   "file_extension": ".py",
   "mimetype": "text/x-python",
   "name": "python",
   "nbconvert_exporter": "python",
   "pygments_lexer": "ipython3",
   "version": "3.6.5"
  }
 },
 "nbformat": 4,
 "nbformat_minor": 2
}
