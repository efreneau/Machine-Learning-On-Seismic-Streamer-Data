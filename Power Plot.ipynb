{
 "cells": [
  {
   "cell_type": "code",
   "execution_count": 9,
   "metadata": {
    "collapsed": true
   },
   "outputs": [],
   "source": [
    "import csv\n",
    "import numpy as np\n",
    "import matplotlib.pyplot as p\n",
    "import math\n",
    "import os\n",
    "from os import walk\n",
    "import scipy.io as sio\n",
    "\n",
    "folder = r'C:\\Users\\zomege\\Documents\\Machine Learning\\Matlab\\Training_Data_(Line_06)\\\\'"
   ]
  },
  {
   "cell_type": "code",
   "execution_count": 10,
   "metadata": {},
   "outputs": [],
   "source": [
    "#Header of csv\n",
    "#Date[0],Time[1],Depth of Airgun(m)[2],Depth of Reciever(m)[3],X Airgun[4],Y Airgun[5],Z Airgun[6],X_R1[7],Y_R1[8],Z_R1[9],SEL[10],RMS[11]\n",
    "#Python array\n",
    "#Depth of Airgun(m)[0],Depth of Reciever(m)[1],Range(m)[2],SEL[3],RMS[4]\n",
    "#shape of data: ()\n",
    "saveLoc = r'C:\\Users\\zomege\\Documents\\Machine Learning\\data.mat'\n",
    "if(not(os.path.isfile(saveLoc))):\n",
    "    files = os.listdir(folder)\n",
    "    length = len(files)\n",
    "    data = np.zeros([length,636,5])\n",
    "    f = 0#file index\n",
    "    for filename in files:\n",
    "        e = 0#hydrophone index\n",
    "        dirname = folder+filename\n",
    "        if filename.endswith(\".csv\"): \n",
    "            with open(dirname) as csvFile:\n",
    "                csvReader = csv.reader(csvFile)\n",
    "                next(csvReader,None)#Skip header\n",
    "                for row in csvReader:\n",
    "                    range1 = math.sqrt((float(row[7])-float(row[4]))**2+(float(row[8])-float(row[5]))**2)#range = dist([X_R1,Y_R1],[X_Airgun,Y_airgun])\n",
    "                    data[f][e] = [row[2],row[3],range1,row[10],row[11]]\n",
    "                    e = e + 1\n",
    "        f = f + 1 \n",
    "    sio.savemat(saveLoc, mdict={'data': data})\n",
    "else:\n",
    "    save = sio.loadmat(saveLoc)\n",
    "    data = save['data']"
   ]
  },
  {
   "cell_type": "code",
   "execution_count": null,
   "metadata": {},
   "outputs": [],
   "source": [
    "\n"
   ]
  },
  {
   "cell_type": "code",
   "execution_count": null,
   "metadata": {
    "collapsed": true
   },
   "outputs": [],
   "source": []
  }
 ],
 "metadata": {
  "kernelspec": {
   "display_name": "Python 3",
   "language": "python",
   "name": "python3"
  },
  "language_info": {
   "codemirror_mode": {
    "name": "ipython",
    "version": 3
   },
   "file_extension": ".py",
   "mimetype": "text/x-python",
   "name": "python",
   "nbconvert_exporter": "python",
   "pygments_lexer": "ipython3",
   "version": "3.6.3"
  }
 },
 "nbformat": 4,
 "nbformat_minor": 2
}
