{
 "cells": [
  {
   "cell_type": "code",
   "execution_count": 1,
   "metadata": {
    "collapsed": true
   },
   "outputs": [],
   "source": [
    "import csv\n",
    "import numpy as np\n",
    "import matplotlib.pyplot as p\n",
    "import math\n",
    "import os\n",
    "from os import walk\n",
    "import scipy.io as sio\n",
    "\n",
    "folder = r'C:\\Users\\zomege\\Documents\\Machine Learning\\Matlab\\Training_Data_(Line_06)\\\\'"
   ]
  },
  {
   "cell_type": "code",
   "execution_count": 7,
   "metadata": {},
   "outputs": [
    {
     "name": "stdout",
     "output_type": "stream",
     "text": [
      "[[  2.61760000e+03  -9.99990000e+04   5.18073751e+06   1.50850200e+02\n",
      "    1.53526300e+02]\n",
      " [  2.61760000e+03  -9.99990000e+04   5.18072556e+06   1.51126900e+02\n",
      "    1.54000400e+02]\n",
      " [  2.61760000e+03  -9.99990000e+04   5.18071351e+06   1.51878000e+02\n",
      "    1.54819300e+02]\n",
      " ..., \n",
      " [  1.01700000e+02   1.04100000e+02   5.19177569e+06   1.56496000e+02\n",
      "    1.62087000e+02]\n",
      " [  1.01700000e+02   1.04100000e+02   5.19177103e+06   1.56744000e+02\n",
      "    1.62272500e+02]\n",
      " [  1.01700000e+02   1.04100000e+02   5.19176636e+06   1.05186100e+02\n",
      "    1.11606800e+02]]\n"
     ]
    }
   ],
   "source": [
    "#Header of csv\n",
    "#Date[0],Time[1],Depth of Airgun(m)[2],Depth of Reciever(m)[3],X Airgun[4],Y Airgun[5],Z Airgun[6],X_R1[7],Y_R1[8],Z_R1[9],SEL[10],RMS[11]\n",
    "#Python array\n",
    "#Depth of Airgun(m)[0],Depth of Reciever(m)[1],Range(m)[2],SEL[3],RMS[4]\n",
    "saveLoc = r'C:\\Users\\zomege\\Documents\\Machine Learning\\data.mat'\n",
    "if(not(os.path.isfile(saveLoc))):\n",
    "    files = os.listdir(folder)\n",
    "    length = len(files)\n",
    "    data = np.zeros([636*length,5])\n",
    "    i = 0\n",
    "    for filename in files:\n",
    "        dirname = folder+filename\n",
    "        if filename.endswith(\".csv\"): \n",
    "            with open(dirname) as csvFile:\n",
    "                csvReader = csv.reader(csvFile)\n",
    "                next(csvReader,None)#Skip header\n",
    "                for row in csvReader:\n",
    "                    range1 = math.sqrt((float(row[7])-float(row[4]))**2+(float(row[8])-float(row[5]))**2)#range = dist([X_R1,Y_R1],[X_Airgun,Y_airgun])\n",
    "                    data[i] = [row[2],row[3],range1,row[10],row[11]]\n",
    "                    i = i + 1 \n",
    "    sio.savemat(saveLoc, mdict={'data': data})\n",
    "else:\n",
    "    save = sio.loadmat(saveLoc)\n",
    "    data = save['data']"
   ]
  },
  {
   "cell_type": "code",
   "execution_count": 64,
   "metadata": {},
   "outputs": [
    {
     "data": {
      "image/png": "[encoded data removed]",
      "text/plain": [
       "<matplotlib.figure.Figure at 0x218d9dbe48>"
      ]
     },
     "metadata": {},
     "output_type": "display_data"
    }
   ],
   "source": [
    "p.plot(shot[:,3],shot[:,0])\n",
    "p.show()\n"
   ]
  },
  {
   "cell_type": "code",
   "execution_count": null,
   "metadata": {
    "collapsed": true
   },
   "outputs": [],
   "source": []
  }
 ],
 "metadata": {
  "kernelspec": {
   "display_name": "Python 3",
   "language": "python",
   "name": "python3"
  },
  "language_info": {
   "codemirror_mode": {
    "name": "ipython",
    "version": 3
   },
   "file_extension": ".py",
   "mimetype": "text/x-python",
   "name": "python",
   "nbconvert_exporter": "python",
   "pygments_lexer": "ipython3",
   "version": "3.6.3"
  }
 },
 "nbformat": 4,
 "nbformat_minor": 2
}
