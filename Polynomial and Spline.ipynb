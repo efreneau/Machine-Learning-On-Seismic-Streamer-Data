{
 "cells": [
  {
   "cell_type": "code",
   "execution_count": 1,
   "metadata": {},
   "outputs": [],
   "source": [
    "import pickle\n",
    "import csv\n",
    "import numpy as np\n",
    "import matplotlib.pyplot as plt\n",
    "import scipy.io as sio\n",
    "import os\n",
    "import datetime as dt\n",
    "import pandas as pd\n",
    "from scipy import stats\n",
    "from pyearth import Earth#conda install sklearn-contrib-py-earth\n",
    "from sklearn import linear_model\n",
    "from sklearn.preprocessing import PolynomialFeatures\n",
    "from sklearn.model_selection import train_test_split\n",
    "from sklearn.metrics import mean_squared_error, r2_score\n",
    "from sklearn.ensemble import RandomForestRegressor\n",
    "\n",
    "np.warnings.filterwarnings('ignore') #Runtime warning"
   ]
  },
  {
   "cell_type": "code",
   "execution_count": 2,
   "metadata": {},
   "outputs": [],
   "source": [
    "#Header of csv: 'Date[0],Time[1],Depth of Airgun(m)[2],Depth of Reciever(m)[3],X Airgun[4],Y Airgun[5],Z Airgun[6],X_R1[7],Y_R1[8],Z_R1[9],SEL1[10],RMS1[11],SEL2[12],RMS2[13],SEL3[14],RMS3[15],SEL4[16],RMS4[17],SEL_full[18],RMS_full[19],T90_1[20],T90_2[21],T90_3[22],T90_4[23],T90_full[24]\n",
    "def prepData(x_data,y_data,path):\n",
    "    csv_train_path = path\n",
    "    files = os.listdir(csv_train_path)\n",
    "    dataTrain = {}\n",
    "    x_data2 = x_data\n",
    "    y_data2 = y_data\n",
    "    for filename in sorted(files):\n",
    "        dirname = csv_train_path + filename\n",
    "        dataTrain = pd.read_csv(dirname)\n",
    "        dataTrain = dataTrain.rename(columns={'Depth of Airgun(m)': 'ag_depth','Depth of Reciever(m)': 'hyd_depth'})\n",
    "        dataTrain = dataTrain[(dataTrain.hyd_depth != -99999)]    \n",
    "        ag_x = dataTrain['X Airgun']\n",
    "        ag_y = dataTrain['Y Airgun']\n",
    "        ag_z = dataTrain['Z Airgun']\n",
    "        hyd_x = dataTrain['X_R1'] #relative to ag_x\n",
    "        hyd_y = dataTrain['Y_R1'] #relative to ag_y\n",
    "        hyd_z = dataTrain['Z_R1'] #relative to ag_z\n",
    "        r_train = np.sqrt(np.square(hyd_x) + np.square(hyd_y) + np.square(hyd_z))\n",
    "        logr_train = np.log10(np.sqrt(np.square(hyd_x) + np.square(hyd_y) + np.square(hyd_z)))\n",
    "        dataTrain = dataTrain.assign(r_train = r_train,logr_train = logr_train,filename = filename)\n",
    "        dataTrain = dataTrain.dropna(axis=0, how='any')\n",
    "        \n",
    "        #outliers\n",
    "        sel_dif = {}\n",
    "        sel_dif = dataTrain['SEL_full'].diff()\n",
    "        sel_dif2 = sel_dif.dropna(axis=0, how='any')\n",
    "        sel_thres = np.abs(np.mean(np.abs(sel_dif2)))\n",
    "        sel_dif = sel_dif[np.abs(sel_dif.values) < sel_thres]\n",
    "        dataTrain = dataTrain.loc[sel_dif.index]\n",
    "        \"\"\"\n",
    "        rms_dif = {}\n",
    "        rms_dif = dataTrain['RMS_full'].diff()\n",
    "        rms_dif2 = rms_dif.dropna(axis=0, how='any')\n",
    "        rms_thres = np.abs(np.mean(np.abs(rms_dif2)))\n",
    "        rms_dif = rms_dif[np.abs(rms_dif.values) < rms_thres]\n",
    "        dataTrain = dataTrain.loc[rms_dif.index]        \n",
    "        \"\"\"\n",
    "        x_data2 = x_data2.append(dataTrain[['ag_depth', 'hyd_depth','r_train','logr_train']],ignore_index=True)\n",
    "        y_data2 = y_data2.append(dataTrain[['SEL_full','RMS_full']], ignore_index=True)\n",
    "        #data = data.append(dataTrain[['filename','ag_depth', 'hyd_depth','logr_train','r_train','RMS_full','SEL_full']],ignore_index=True)\n",
    "    return [x_data2,y_data2]\n",
    "\n",
    "def pickle2(filename,x_data,y_data):\n",
    "    outfile = open(filename,'wb')\n",
    "    pickle.dump({'X': x_data, 'SEL': y_data['SEL_full'], 'RMS': y_data['RMS_full']},outfile)\n",
    "    outfile.close()\n",
    "    return;"
   ]
  },
  {
   "cell_type": "code",
   "execution_count": 23,
   "metadata": {},
   "outputs": [
    {
     "ename": "SyntaxError",
     "evalue": "(unicode error) 'unicodeescape' codec can't decode bytes in position 70-71: malformed \\N character escape (<ipython-input-23-a35b93605600>, line 11)",
     "output_type": "error",
     "traceback": [
      "\u001b[1;36m  File \u001b[1;32m\"<ipython-input-23-a35b93605600>\"\u001b[1;36m, line \u001b[1;32m11\u001b[0m\n\u001b[1;33m    \"\"\"\u001b[0m\n\u001b[1;37m      ^\u001b[0m\n\u001b[1;31mSyntaxError\u001b[0m\u001b[1;31m:\u001b[0m (unicode error) 'unicodeescape' codec can't decode bytes in position 70-71: malformed \\N character escape\n"
     ]
    }
   ],
   "source": [
    "\"\"\"\n",
    "#remove outliers and put data in frames\n",
    "path5 = r'D:\\Machine Learning\\NewCSV\\CSV1\\Line_05_(RMS_and_SEL)\\\\'\n",
    "path6 = r'D:\\Machine Learning\\NewCSV\\CSV1\\Line_06_(RMS_and_SEL)\\\\'\n",
    "path7 = r'D:\\Machine Learning\\NewCSV\\CSV1\\Line_07_(RMS_and_SEL)\\\\'\n",
    "[x_data,y_data] = prepData(pd.DataFrame(),pd.Series(),path5)\n",
    "pickle2('line05.pickle',x_data,y_data)\n",
    "[x_data,y_data] = prepData(x_data,y_data,path6)\n",
    "[x_data,y_data] = prepData(x_data,y_data,path7)\n",
    "pickle2('3lines.pickle',x_data,y_data)\n",
    "\"\"\""
   ]
  },
  {
   "cell_type": "code",
   "execution_count": 31,
   "metadata": {},
   "outputs": [],
   "source": [
    "#draw from the pickle\n",
    "infile = open('line05.pickle','rb')\n",
    "#infile = open('3lines.pickle','rb')\n",
    "data = pickle.load(infile, encoding='bytes')\n",
    "x_train, x_test, y_train, y_test = train_test_split(data['X'],data['SEL'],test_size=0.1,shuffle=True)"
   ]
  },
  {
   "cell_type": "code",
   "execution_count": 32,
   "metadata": {},
   "outputs": [
    {
     "name": "stdout",
     "output_type": "stream",
     "text": [
      "Coefficients (slope): \n",
      " [-4.99768287e-03  9.44219028e-04  5.96144836e-04 -9.65872405e+00]\n",
      "Intercept: \n",
      " 200.0696844028013\n",
      "R^2 score: 0.62 \n",
      "\n",
      "Total Mean squared error: 8.81 \n",
      "\n",
      "Subspace Mean squared error: 6.91 \n",
      "\n"
     ]
    }
   ],
   "source": [
    "#Linear regression\n",
    "reg = linear_model.LinearRegression(fit_intercept=True, normalize=False)\n",
    "# Train the model using the training sets\n",
    "linreg_model = reg.fit(x_train, y_train)\n",
    "print('Coefficients (slope): \\n', reg.coef_)\n",
    "print('Intercept: \\n', reg.intercept_)\n",
    "\n",
    " \n",
    "y_pred = linreg_model.predict(x_test)\n",
    "\n",
    "R2 = reg.score(x_test, y_test)\n",
    "print('R^2 score: %.2f \\n' %R2)\n",
    "err_total = mean_squared_error(y_test, y_pred)\n",
    "print(\"Total Mean squared error: %.2f \\n\" %err_total)\n",
    " \n",
    "x_test_subset = x_test[100:200]\n",
    "y_test_subset = y_test[100:200]\n",
    "y_pred_subset = linreg_model.predict(x_test_subset)\n",
    "err_subspace = mean_squared_error(y_test_subset, y_pred_subset)\n",
    "print(\"Subspace Mean squared error: %.2f \\n\" %err_subspace)\n"
   ]
  },
  {
   "cell_type": "code",
   "execution_count": 33,
   "metadata": {},
   "outputs": [
    {
     "name": "stdout",
     "output_type": "stream",
     "text": [
      "Coefficients (slope): \n",
      " [ 0.00000000e+00 -1.44837184e-02 -5.01492142e-03 -7.60742919e-01\n",
      " -7.15252040e+02 -1.04735513e-05  1.97942994e-05 -5.00895147e-07\n",
      "  2.84631795e-03 -8.15781332e-06 -2.36097926e-08  1.03856977e-03\n",
      " -4.33228443e-06  1.83165500e-01  1.71371025e+02]\n",
      "Intercept: \n",
      " 994.9284690879745\n",
      "R^2 score: 0.65 \n",
      "\n",
      "Total Mean squared error: 7.94 \n",
      "\n",
      "Subspace Mean squared error: 6.26 \n",
      "\n"
     ]
    }
   ],
   "source": [
    "#2nd degree polynomial\n",
    "poly = PolynomialFeatures(degree=2)\n",
    "reg2 = linear_model.LinearRegression(fit_intercept=True, normalize=False)\n",
    "x2_train = poly.fit_transform(x_train)\n",
    "x2_test = poly.fit_transform(x_test)\n",
    "\n",
    "linreg_model2 = reg2.fit(x2_train, y_train)\n",
    "print('Coefficients (slope): \\n', reg2.coef_)\n",
    "print('Intercept: \\n', reg2.intercept_)\n",
    " \n",
    "y_pred = linreg_model2.predict(x2_test)\n",
    "\n",
    "R2 = reg2.score(x2_test, y_test)\n",
    "print('R^2 score: %.2f \\n' %R2)\n",
    "err_total = mean_squared_error(y_test, y_pred)\n",
    "print(\"Total Mean squared error: %.2f \\n\" %err_total)\n",
    " \n",
    "x2_test_subset = x2_test[100:200]\n",
    "y_test_subset = y_test[100:200]\n",
    "y_pred_subset = linreg_model2.predict(x2_test_subset)\n",
    "err_subspace = mean_squared_error(y_test_subset, y_pred_subset)\n",
    "print(\"Subspace Mean squared error: %.2f \\n\" %err_subspace)"
   ]
  },
  {
   "cell_type": "code",
   "execution_count": 34,
   "metadata": {},
   "outputs": [
    {
     "name": "stdout",
     "output_type": "stream",
     "text": [
      "Coefficients (slope): \n",
      " [ 1.87222485e-06 -1.57449655e+00  1.46756825e+00 -1.48281763e+02\n",
      " -7.14506059e+02 -1.18246139e-04  3.54538942e-04  1.39807609e-03\n",
      "  1.26593589e+00 -2.28570515e-04 -1.28408592e-03 -1.18323775e+00\n",
      "  3.22715609e-03  7.32276392e+01 -1.14332161e+03 -6.95338759e-08\n",
      "  1.36203513e-07 -7.04385117e-09  7.04177775e-05 -4.79377555e-08\n",
      "  1.62577258e-08 -2.01312410e-04  9.12617171e-09 -3.41648682e-04\n",
      " -2.84399488e-01 -2.45090924e-08 -1.13466169e-08  1.39577005e-04\n",
      " -8.32696490e-09  3.15922921e-04  2.58180403e-01  3.04567827e-09\n",
      " -6.41629041e-04 -9.71689714e+00  8.97444114e+02]\n",
      "Intercept: \n",
      " 3146.731809587996\n",
      "R^2 score: 0.68 \n",
      "\n",
      "Total Mean squared error: 7.34 \n",
      "\n",
      "Subspace Mean squared error: 6.94 \n",
      "\n"
     ]
    }
   ],
   "source": [
    "#3rd degree polynomial\n",
    "poly = PolynomialFeatures(degree=3)\n",
    "reg2 = linear_model.LinearRegression(fit_intercept=True, normalize=False)\n",
    "x2_train = poly.fit_transform(x_train)\n",
    "x2_test = poly.fit_transform(x_test)\n",
    "\n",
    "linreg_model2 = reg2.fit(x2_train, y_train)\n",
    "print('Coefficients (slope): \\n', reg2.coef_)\n",
    "print('Intercept: \\n', reg2.intercept_)\n",
    " \n",
    "y_pred = linreg_model2.predict(x2_test)\n",
    "#print(y_pred.shape)\n",
    "R2 = reg2.score(x2_test, y_test)\n",
    "print('R^2 score: %.2f \\n' %R2)\n",
    "err_total = mean_squared_error(y_test, y_pred)\n",
    "print(\"Total Mean squared error: %.2f \\n\" %err_total)\n",
    " \n",
    "x2_test_subset = x2_test[100:200]\n",
    "y_test_subset = y_test[100:200]\n",
    "y_pred_subset = linreg_model2.predict(x2_test_subset)\n",
    "err_subspace = mean_squared_error(y_test_subset, y_pred_subset)\n",
    "print(\"Subspace Mean squared error: %.2f \\n\" %err_subspace)"
   ]
  },
  {
   "cell_type": "code",
   "execution_count": 8,
   "metadata": {},
   "outputs": [
    {
     "data": {
      "text/plain": [
       "\"\\nmars = Earth()\\nmars.fit(x_train,y_train)\\n\\nfilename = 'mars.pickle'\\noutfile = open(filename,'wb')\\n\\npickle.dump(mars,outfile)\\noutfile.close()\\n\""
      ]
     },
     "execution_count": 8,
     "metadata": {},
     "output_type": "execute_result"
    }
   ],
   "source": [
    "#this takes a while\n",
    "\"\"\"\n",
    "mars = Earth()\n",
    "mars.fit(x_train,y_train)\n",
    "\n",
    "filename = 'mars.pickle'\n",
    "outfile = open(filename,'wb')\n",
    "\n",
    "pickle.dump(mars,outfile)\n",
    "outfile.close()\n",
    "\"\"\""
   ]
  },
  {
   "cell_type": "code",
   "execution_count": 9,
   "metadata": {},
   "outputs": [
    {
     "name": "stdout",
     "output_type": "stream",
     "text": [
      "R^2 score: 0.66 \n",
      "\n",
      "Total Mean squared error: 55.45 \n",
      "\n",
      "Subspace Mean squared error: 49.95 \n",
      "\n"
     ]
    }
   ],
   "source": [
    "infile = open('mars.pickle','rb')\n",
    "mars = pickle.load(infile)\n",
    "y_pred = mars.predict(x_test)\n",
    "\n",
    "R2 = mars.grsq_#MARS score equivalent\n",
    "print('R^2 score: %.2f \\n' %R2)\n",
    "err_total = mean_squared_error(y_test, y_pred)\n",
    "print(\"Total Mean squared error: %.2f \\n\" %err_total)\n",
    " \n",
    "x_test_subset = x_test[100:200]\n",
    "y_test_subset = y_test[100:200]\n",
    "y_pred_subset = mars.predict(x_test_subset)\n",
    "err_subspace = mean_squared_error(y_test_subset, y_pred_subset)\n",
    "print(\"Subspace Mean squared error: %.2f \\n\" %err_subspace)"
   ]
  },
  {
   "cell_type": "code",
   "execution_count": null,
   "metadata": {},
   "outputs": [],
   "source": []
  }
 ],
 "metadata": {
  "kernelspec": {
   "display_name": "Python 3",
   "language": "python",
   "name": "python3"
  },
  "language_info": {
   "codemirror_mode": {
    "name": "ipython",
    "version": 3
   },
   "file_extension": ".py",
   "mimetype": "text/x-python",
   "name": "python",
   "nbconvert_exporter": "python",
   "pygments_lexer": "ipython3",
   "version": "3.6.7"
  }
 },
 "nbformat": 4,
 "nbformat_minor": 2
}
